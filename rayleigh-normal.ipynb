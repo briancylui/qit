{
 "cells": [
  {
   "cell_type": "markdown",
   "metadata": {},
   "source": [
    "# Rayleigh-normal distribution functions"
   ]
  },
  {
   "cell_type": "markdown",
   "metadata": {},
   "source": [
    "## Step 1: Definitions"
   ]
  },
  {
   "cell_type": "markdown",
   "metadata": {},
   "source": [
    "The continuous fidelity (or the Bhattacharyya coefficient) for continuous probability distributions $p$ and $q$ on $\\mathbb{R}$ is defined by (https://arxiv.org/pdf/1306.4166.pdf):\n",
    "\\begin{align}\n",
    "\\mathcal{F}(p, q) := \\int_{\\mathbb{R}} \\sqrt{p(x) q(x)} dx\n",
    "\\end{align}"
   ]
  },
  {
   "cell_type": "markdown",
   "metadata": {},
   "source": [
    "For any $\\mu \\in \\mathbb{R}$ and $\\nu > 0$, let $\\Phi_{\\mu, \\nu}$ and $\\phi_{\\mu, \\nu}$ denote the cdf and pdf of the Gaussian distribution of mean $\\mu$ and variance $\\nu$.  In particular, we denote $\\Phi$ and $\\phi$ as the cdf and pdf the standard normal distribution."
   ]
  },
  {
   "cell_type": "markdown",
   "metadata": {},
   "source": [
    "### Definition 1"
   ]
  },
  {
   "cell_type": "markdown",
   "metadata": {},
   "source": [
    "The Rayleigh-normal distribution function $Z_\\nu$ on $\\mathbb{R}$ is defined by:\n",
    "\\begin{align}\n",
    "Z_\\nu := \\begin{cases}\n",
    "1 - \\sup_A \\mathcal{F}\\left(\\frac{dA}{dx}, \\phi_{\\mu, \\nu}\\right)^2, & \\nu > 0 \\\\\n",
    "\\Phi, & \\nu = 0\n",
    "\\end{cases}\n",
    "\\end{align}\n",
    "where $A : \\mathbb{R} \\to [0, 1]$ runs over continuously differentiable monotone increasing functions satisfying $\\Phi \\leq A \\leq 1$ on the right hand side."
   ]
  },
  {
   "cell_type": "markdown",
   "metadata": {},
   "source": [
    "It can be shown that:\n",
    "1. The Rayleigh-normal distribution function $Z_\\nu$ can be shown to be right-continuous at $\\nu = 0$."
   ]
  },
  {
   "cell_type": "markdown",
   "metadata": {},
   "source": [
    "We denote the cdf of the Rayleigh distribution with scale parameter $\\sigma > 0$ by:\n",
    "\\begin{align}\n",
    "    R_{\\sigma}(x) = \\begin{cases}\n",
    "    1 - e^{- \\frac{x^2}{2 \\sigma^2}}, & x > 0 \\\\\n",
    "    0, & x \\leq 0\n",
    "    \\end{cases}.\n",
    "\\end{align}"
   ]
  },
  {
   "cell_type": "markdown",
   "metadata": {},
   "source": [
    "### Lemma 2"
   ]
  },
  {
   "cell_type": "markdown",
   "metadata": {},
   "source": [
    "When $0 < \\nu < 1$, the equation with respect to $x$\n",
    "\\begin{align}\n",
    "    \\frac{\\phi(x)}{\\phi_{\\mu, \\nu}(x)} = \\frac{1 - \\Phi(x)}{1 - \\Phi_{\\mu, \\nu}(x)}\n",
    "\\end{align}\n",
    "has a unique solution $\\beta_{\\mu, \\nu}$."
   ]
  },
  {
   "cell_type": "markdown",
   "metadata": {},
   "source": [
    "It can be shown that:\n",
    "1. $\\beta_{\\mu, \\nu} < \\frac{\\mu}{1 - \\nu}$\n",
    "1. $\\beta_{\\mu, \\nu}$ is differentiable and monotonically increasing with respect to $\\mu$"
   ]
  },
  {
   "cell_type": "markdown",
   "metadata": {},
   "source": [
    "### Lemma 3"
   ]
  },
  {
   "cell_type": "markdown",
   "metadata": {},
   "source": [
    "When $\\nu > 1$, the equation with respect to $x$\n",
    "\\begin{align}\n",
    "    \\frac{\\phi(x)}{\\phi_{\\mu, \\nu}(x)} = \\frac{\\Phi(x)}{\\Phi_{\\mu, \\nu}(x)}\n",
    "\\end{align}\n",
    "has a unique solution $\\alpha_{\\mu, \\nu}$."
   ]
  },
  {
   "cell_type": "markdown",
   "metadata": {},
   "source": [
    "It can be shown that:\n",
    "1. $\\alpha_{\\mu, \\nu} > \\frac{\\mu}{1 - \\nu}$\n",
    "1. $\\alpha_{\\mu, \\nu}$ is differentiable and monotonically decreasing with respect to $\\mu$"
   ]
  },
  {
   "cell_type": "markdown",
   "metadata": {},
   "source": [
    "### Theorem 7 (Explicit form of $Z_\\nu$)"
   ]
  },
  {
   "cell_type": "markdown",
   "metadata": {},
   "source": [
    "For $\\nu \\geq 0$, we have:\n",
    "\\begin{align}\n",
    "    Z_\\nu(\\mu)\n",
    "    = \\begin{cases}\n",
    "    \\Phi(\\mu), & \\nu = 0 \\\\\n",
    "    1 - (\\sqrt{1 - \\Phi(\\beta_{\\mu, \\nu})} \\sqrt{1 - \\Phi_{\\mu, \\nu}(\\beta_{\\mu, \\nu})} + I_{\\mu, \\nu}(\\beta_{\\mu, \\nu}))^2, & 0 < \\nu < 1 \\\\\n",
    "    R_{\\sqrt{2}}(\\mu), & \\nu = 1 \\\\\n",
    "    1 - (\\sqrt{\\Phi(\\alpha_{\\mu, \\nu}) \\Phi_{\\mu, \\nu}(\\alpha_{\\mu, \\nu})} + I_{\\mu, \\nu}(\\infty)- I_{\\mu, \\nu}(\\alpha_{\\mu, \\nu}))^2, & \\nu > 1\n",
    "    \\end{cases}\n",
    "\\end{align}"
   ]
  },
  {
   "cell_type": "markdown",
   "metadata": {},
   "source": [
    "where\n",
    "\\begin{align}\n",
    "I_{\\mu, \\nu}(x) := \\sqrt{\\frac{2 \\sqrt{\\nu}}{1 + \\nu}} e^{- \\frac{\\mu^2}{4(1 + \\nu)}} \\Phi_{\\frac{\\mu}{1 + \\nu}, \\frac{2\\nu}{1 + \\nu}}(x)\n",
    "\\end{align}\n",
    "and\n",
    "\\begin{align}\n",
    "I_{\\mu, \\nu}(\\infty) := \\sqrt{\\frac{2 \\sqrt{\\nu}}{1 + \\nu}} e^{- \\frac{\\mu^2}{4(1 + \\nu)}}.\n",
    "\\end{align}"
   ]
  },
  {
   "cell_type": "markdown",
   "metadata": {},
   "source": [
    "## Step 2: Calculations"
   ]
  },
  {
   "cell_type": "markdown",
   "metadata": {},
   "source": [
    "### Import modules"
   ]
  },
  {
   "cell_type": "code",
   "execution_count": 9,
   "metadata": {},
   "outputs": [],
   "source": [
    "from scipy.stats import norm, rayleigh, rv_continuous\n",
    "from scipy.optimize import fsolve\n",
    "from math import sqrt, exp\n",
    "import numpy as np"
   ]
  },
  {
   "cell_type": "markdown",
   "metadata": {},
   "source": [
    "### Define functions"
   ]
  },
  {
   "cell_type": "markdown",
   "metadata": {},
   "source": [
    "1. $\\alpha, \\beta$"
   ]
  },
  {
   "cell_type": "code",
   "execution_count": 10,
   "metadata": {},
   "outputs": [],
   "source": [
    "def equation(x, mean, var, mode):\n",
    "    sd = sqrt(var)\n",
    "    if mode == 'alpha':\n",
    "        return norm.pdf(x) / norm.pdf(x, mean, sd) - norm.cdf(x) / norm.cdf(x, mean, sd)\n",
    "    else:\n",
    "        # mode == 'beta'\n",
    "        return norm.pdf(x) / norm.pdf(x, mean, sd) - norm.sf(x) / norm.sf(x, mean, sd)\n",
    "    \n",
    "def solve(mean, var, mode):\n",
    "    initial_guess = mean / (1 - var)\n",
    "    result = fsolve(equation, initial_guess, (mean, var, mode))\n",
    "    return result[0]\n",
    "\n",
    "# Assumes var > 1\n",
    "def alpha(mean, var):\n",
    "    if var <= 1:\n",
    "        raise ValueError(\"Requires: var > 1\")\n",
    "    return solve(mean, var, 'alpha')\n",
    "\n",
    "# Assumes 0 < var < 1\n",
    "def beta(mean, var):\n",
    "    if var <= 0 or var >= 1:\n",
    "        raise ValueError(\"Requires: 0 < var < 1\")\n",
    "    return solve(mean, var, 'beta')"
   ]
  },
  {
   "cell_type": "markdown",
   "metadata": {},
   "source": [
    "2. $I_{\\mu, \\nu}(x)$"
   ]
  },
  {
   "cell_type": "code",
   "execution_count": 11,
   "metadata": {},
   "outputs": [],
   "source": [
    "def I(x, mean, var):\n",
    "    sd = sqrt(var)\n",
    "    head = sqrt(2 * sd / (1 + var))\n",
    "    exponent = - mean**2 / (4 * (1 + var))\n",
    "    coeff = head * exp(exponent)\n",
    "    \n",
    "    if x == 'inf':\n",
    "        return coeff\n",
    "    else:\n",
    "        return coeff * norm.cdf(x, loc=mean / (1 + var), scale=sqrt(2 * var / (1 + var)))"
   ]
  },
  {
   "cell_type": "markdown",
   "metadata": {},
   "source": [
    "3. $Z_{\\nu}(\\mu)$"
   ]
  },
  {
   "cell_type": "code",
   "execution_count": 12,
   "metadata": {},
   "outputs": [],
   "source": [
    "def Z(mean, var):\n",
    "    if var < 0:\n",
    "        raise ValueError(\"Requires: var >= 0\")\n",
    "        \n",
    "    if var == 0.0:\n",
    "        return norm.cdf(mean)\n",
    "    elif var > 0 and var < 1:\n",
    "        b = beta(mean, var)\n",
    "        sd = sqrt(var)\n",
    "        return 1 - (sqrt(norm.sf(b)) * sqrt(norm.sf(b, mean, sd)) + I(b, mean, var))**2\n",
    "    elif var == 1:\n",
    "        return rayleigh.cdf(mean, scale=sqrt(2))\n",
    "    else:\n",
    "        # var > 1\n",
    "        a = alpha(mean, var)\n",
    "        sd = sqrt(var)\n",
    "        return 1 - (sqrt(norm.cdf(a)) * sqrt(norm.cdf(a, mean, sd)) + I('inf', mean, var) - I(a, mean, var))**2"
   ]
  },
  {
   "cell_type": "markdown",
   "metadata": {},
   "source": [
    "### Define a new distrbution object"
   ]
  },
  {
   "cell_type": "code",
   "execution_count": 13,
   "metadata": {},
   "outputs": [],
   "source": [
    "class rayleigh_norm(rv_continuous):\n",
    "    '''Rayleigh-normal distribution'''\n",
    "    def _cdf(self, x, var):\n",
    "        return Z(x, var)\n",
    "    \n",
    "    def _argcheck(self, *args):\n",
    "        \"\"\"Default check for correct values on args and keywords.\n",
    "        Returns condition array of 1's where arguments are correct and\n",
    "         0's where they are not.\n",
    "        \"\"\"\n",
    "        cond = 1\n",
    "        for arg in args:\n",
    "            cond = np.logical_and(cond, (np.asarray(arg) > -np.inf))\n",
    "        return cond"
   ]
  },
  {
   "cell_type": "code",
   "execution_count": 15,
   "metadata": {},
   "outputs": [
    {
     "data": {
      "text/plain": [
       "2.3263478740408448"
      ]
     },
     "execution_count": 15,
     "metadata": {},
     "output_type": "execute_result"
    }
   ],
   "source": [
    "rn = rayleigh_norm()\n",
    "rn.ppf(0.01, var=0.0)\n",
    "rn.ppf(0.99, var=0.0)"
   ]
  },
  {
   "cell_type": "markdown",
   "metadata": {},
   "source": [
    "## Step 3: Plots"
   ]
  },
  {
   "cell_type": "markdown",
   "metadata": {},
   "source": [
    "### Import modules"
   ]
  },
  {
   "cell_type": "code",
   "execution_count": 26,
   "metadata": {},
   "outputs": [],
   "source": [
    "import matplotlib.pyplot as plt\n",
    "from matplotlib import rcParams, cycler\n",
    "import pdb"
   ]
  },
  {
   "cell_type": "code",
   "execution_count": 38,
   "metadata": {},
   "outputs": [
    {
     "name": "stderr",
     "output_type": "stream",
     "text": [
      "/Users/brianlui/anaconda3/lib/python3.7/site-packages/ipykernel_launcher.py:7: RuntimeWarning: invalid value encountered in true_divide\n",
      "  import sys\n",
      "/Users/brianlui/anaconda3/lib/python3.7/site-packages/scipy/optimize/minpack.py:162: RuntimeWarning: The iteration is not making good progress, as measured by the \n",
      "  improvement from the last ten iterations.\n",
      "  warnings.warn(msg, RuntimeWarning)\n",
      "/Users/brianlui/anaconda3/lib/python3.7/site-packages/ipykernel_launcher.py:16: UserWarning: You have mixed positional and keyword arguments, some input may be discarded.\n",
      "  app.launch_new_instance()\n"
     ]
    },
    {
     "data": {
      "text/plain": [
       "Text(0.5, 1.0, 'Rayleigh-normal distribution functions')"
      ]
     },
     "execution_count": 38,
     "metadata": {},
     "output_type": "execute_result"
    },
    {
     "data": {
      "image/png": "[encoded data removed]",
      "text/plain": [
       "<Figure size 432x288 with 1 Axes>"
      ]
     },
     "metadata": {
      "needs_background": "light"
     },
     "output_type": "display_data"
    }
   ],
   "source": [
    "fig, ax = plt.subplots(1, 1)\n",
    "\n",
    "np.random.seed(205)\n",
    "\n",
    "vars = [0, 1/10, 1/6, 1/3, 1]\n",
    "x = np.linspace(rn.ppf(0.03, 0.1), rn.ppf(0.99, 0.1), 100)\n",
    "cmap = plt.cm.coolwarm\n",
    "rcParams['axes.prop_cycle'] = cycler(color=cmap(np.linspace(0, 1, len(vars))))\n",
    "\n",
    "lines = []\n",
    "for var in vars:\n",
    "    cdf = np.array([rn.cdf(x_index, var) for x_index in x])\n",
    "    line = ax.plot(x, cdf, '-', lw=5, alpha=0.6, label='var = {}'.format(var))\n",
    "    lines.append(line)\n",
    "\n",
    "ax.legend(lines, labels=[str(var) for var in vars], loc='upper right', bbox_to_anchor=(1.5, 0.7))\n",
    "plt.axvline(x=0)\n",
    "plt.title('Rayleigh-normal distribution functions')"
   ]
  },
  {
   "cell_type": "code",
   "execution_count": null,
   "metadata": {},
   "outputs": [],
   "source": []
  }
 ],
 "metadata": {
  "kernelspec": {
   "display_name": "Python 3",
   "language": "python",
   "name": "python3"
  },
  "language_info": {
   "codemirror_mode": {
    "name": "ipython",
    "version": 3
   },
   "file_extension": ".py",
   "mimetype": "text/x-python",
   "name": "python",
   "nbconvert_exporter": "python",
   "pygments_lexer": "ipython3",
   "version": "3.7.3"
  }
 },
 "nbformat": 4,
 "nbformat_minor": 4
}
